{
 "cells": [
  {
   "cell_type": "raw",
   "metadata": {},
   "source": [
    "---\n",
    "title: \"Extract data with OpenAI Function Calling\"\n",
    "date: \"2023-09-03\"\n",
    "categories: [python, openai]\n",
    "jupyter: python3\n",
    "---"
   ]
  },
  {
   "cell_type": "markdown",
   "metadata": {},
   "source": [
    "# OpenAI Function Calling\n",
    "Brief example of how to use function calling to extract different types of data"
   ]
  },
  {
   "cell_type": "code",
   "execution_count": 10,
   "metadata": {},
   "outputs": [],
   "source": [
    "import os\n",
    "import json\n",
    "import openai\n",
    "from dotenv import load_dotenv\n",
    "\n",
    "load_dotenv()\n",
    "\n",
    "openai.api_key = os.getenv(\"OPENAI_API_KEY\")\n",
    "openai.organization = os.getenv(\"OPENAI_ORG_ID\")"
   ]
  },
  {
   "cell_type": "code",
   "execution_count": 22,
   "metadata": {},
   "outputs": [],
   "source": [
    "def openai_response(messages, functions):\n",
    "    response = openai.ChatCompletion.create(\n",
    "        model=\"gpt-3.5-turbo-0613\",\n",
    "        messages=messages,\n",
    "        functions=functions,\n",
    "        function_call=\"auto\",\n",
    "    )\n",
    "    return response[\"choices\"][0][\"message\"][\"function_call\"][\"arguments\"]"
   ]
  },
  {
   "cell_type": "code",
   "execution_count": 23,
   "metadata": {},
   "outputs": [],
   "source": [
    "document = \"\"\"OpenAI is an American artificial intelligence (AI) research laboratory consisting of the non-profit OpenAI, Inc. and its for-profit subsidiary corporation OpenAI, L.P.. OpenAI conducts research on artificial intelligence with the declared intention of developing \"safe and beneficial\" artificial general intelligence, which it defines as \"highly autonomous systems that outperform humans at most economically valuable work\".\n",
    "\n",
    "OpenAI was founded in 2015 by Ilya Sutskever, Greg Brockman, Trevor Blackwell, Vicki Cheung, Andrej Karpathy, Durk Kingma, Jessica Livingston, John Schulman, Pamela Vagata, and Wojciech Zaremba, with Sam Altman and Elon Musk serving as the initial board members. Microsoft provided OpenAI LP with a $1 billion investment in 2019 and a $10 billion investment in 2023.\n",
    "\"\"\""
   ]
  },
  {
   "cell_type": "markdown",
   "metadata": {},
   "source": [
    "### Example structure of using function call for\n",
    "- objects\n",
    "- nested objects\n",
    "- arrays\n",
    "- enums\n",
    "- strings\n",
    "- ints\n",
    "- numbers\n",
    "- booleans"
   ]
  },
  {
   "cell_type": "code",
   "execution_count": 29,
   "metadata": {},
   "outputs": [],
   "source": [
    "messages = [\n",
    "    {\"role\": \"system\", \"content\": \"You are a helpful assistant the parses information into JSON format.\"},\n",
    "    {\"role\": \"user\", \"content\": document},\n",
    "]\n",
    "functions = [\n",
    "        {\n",
    "            \"name\": \"parse_wikipedia_page\",\n",
    "            \"description\": \"Parses a Wikipedia page into JSON format.\",\n",
    "            \"parameters\": {\n",
    "                \"type\": \"object\",\n",
    "                \"properties\": {\n",
    "                    \"people\": {\n",
    "                        \"type\": \"array\", \n",
    "                        \"description\": \"List of people mentioned in the wikipedia page\",\n",
    "                        \"items\": {\"type\": \"string\", \"description\": \"A person\"},\n",
    "                    },\n",
    "                    \"number_of_people\": {\n",
    "                        \"type\": \"integer\",\n",
    "                        \"description\": \"Number of people mentioned in the wikipedia page\",\n",
    "                    },\n",
    "                    \"summary\": {\n",
    "                        \"type\": \"string\",\n",
    "                        \"description\": \"A summary of the wikipedia page\",\n",
    "                    },\n",
    "                    \"sentiment\": {\"type\": \"string\", \"enum\": [\"positive\", \"negative\"]},\n",
    "                    \"important_facts\": {\n",
    "                        \"type\": \"object\",\n",
    "                        \"description\": \"Important facts about the wikipedia page\",\n",
    "                        \"properties\": {\n",
    "                            \"locations\": {\n",
    "                                \"type\": \"array\",\n",
    "                                \"description\": \"Array of locations mentioned in the wikipedia page\",\n",
    "                                \"items\": {\"type\": \"string\", \"description\": \"A location\"},\n",
    "                            },\n",
    "                            \"products\": {\n",
    "                                \"type\": \"array\",\n",
    "                                \"description\": \"Array of products mentioned in the wikipedia page\",\n",
    "                                \"items\": {\"type\": \"string\", \"description\": \"A product\"},\n",
    "                            },\n",
    "                            \"total_investment\": {\n",
    "                                \"type\": \"number\",\n",
    "                                \"description\": \"Sum of the total investment mentioned in the wikipedia page\",\n",
    "                            },\n",
    "                            \"public_company\": {\n",
    "                                \"type\": \"boolean\",\n",
    "                                \"description\": \"Whether the company is publicly traded or not\",\n",
    "                            },\n",
    "                        },\n",
    "                    }\n",
    "                },\n",
    "                \"required\": [\"people\", \"number_of_people\", \"summary\", \"sentiment\", \"important_facts\"],\n",
    "            },\n",
    "        }\n",
    "    ]"
   ]
  },
  {
   "cell_type": "code",
   "execution_count": 30,
   "metadata": {},
   "outputs": [],
   "source": [
    "response = openai_response(messages, functions)"
   ]
  },
  {
   "cell_type": "code",
   "execution_count": 31,
   "metadata": {},
   "outputs": [
    {
     "name": "stdout",
     "output_type": "stream",
     "text": [
      "{\n",
      "  \"people\": [\n",
      "    \"Ilya Sutskever\",\n",
      "    \"Greg Brockman\",\n",
      "    \"Trevor Blackwell\",\n",
      "    \"Vicki Cheung\",\n",
      "    \"Andrej Karpathy\",\n",
      "    \"Durk Kingma\",\n",
      "    \"Jessica Livingston\",\n",
      "    \"John Schulman\",\n",
      "    \"Pamela Vagata\",\n",
      "    \"Wojciech Zaremba\",\n",
      "    \"Sam Altman\",\n",
      "    \"Elon Musk\"\n",
      "  ],\n",
      "  \"number_of_people\": 12,\n",
      "  \"summary\": \"OpenAI is an American artificial intelligence (AI) research laboratory focused on developing safe and beneficial artificial general intelligence. It was founded in 2015 and has received significant investments from Microsoft.\",\n",
      "  \"sentiment\": \"positive\",\n",
      "  \"important_facts\": {\n",
      "    \"locations\": [\n",
      "      \"United States\"\n",
      "    ],\n",
      "    \"products\": [\n",
      "      \"artificial general intelligence\"\n",
      "    ],\n",
      "    \"total_investment\": 11000000000,\n",
      "    \"public_company\": false\n",
      "  }\n",
      "}\n"
     ]
    }
   ],
   "source": [
    "print(response)"
   ]
  }
 ],
 "metadata": {
  "kernelspec": {
   "display_name": ".venv",
   "language": "python",
   "name": "python3"
  },
  "language_info": {
   "codemirror_mode": {
    "name": "ipython",
    "version": 3
   },
   "file_extension": ".py",
   "mimetype": "text/x-python",
   "name": "python",
   "nbconvert_exporter": "python",
   "pygments_lexer": "ipython3",
   "version": "3.11.0"
  },
  "orig_nbformat": 4
 },
 "nbformat": 4,
 "nbformat_minor": 2
}
